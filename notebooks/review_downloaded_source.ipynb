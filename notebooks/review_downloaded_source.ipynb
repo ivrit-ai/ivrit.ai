{
 "cells": [
  {
   "cell_type": "code",
   "execution_count": null,
   "metadata": {},
   "outputs": [],
   "source": [
    "from pathlib import Path\n",
    "\n",
    "source_output_folder_base = Path('<Enter path to download root target folder>')\n",
    "aligned_transcript_filename = 'transcript.aligned.json'\n",
    "source_entry_ids = [i.name for i in source_output_folder_base.iterdir()]"
   ]
  },
  {
   "cell_type": "code",
   "execution_count": 2,
   "metadata": {},
   "outputs": [
    {
     "name": "stderr",
     "output_type": "stream",
     "text": [
      " 12%|█▏        | 192/1561 [02:49<17:53,  1.28it/s]"
     ]
    },
    {
     "name": "stdout",
     "output_type": "stream",
     "text": [
      "Did not work out -  983\n"
     ]
    },
    {
     "name": "stderr",
     "output_type": "stream",
     "text": [
      " 21%|██▏       | 335/1561 [04:47<20:53,  1.02s/it]"
     ]
    },
    {
     "name": "stdout",
     "output_type": "stream",
     "text": [
      "Did not work out -  931\n"
     ]
    },
    {
     "name": "stderr",
     "output_type": "stream",
     "text": [
      " 30%|██▉       | 468/1561 [06:28<13:48,  1.32it/s]"
     ]
    },
    {
     "name": "stdout",
     "output_type": "stream",
     "text": [
      "Did not work out -  1023\n"
     ]
    },
    {
     "name": "stderr",
     "output_type": "stream",
     "text": [
      " 60%|█████▉    | 930/1561 [13:42<09:58,  1.05it/s]"
     ]
    },
    {
     "name": "stdout",
     "output_type": "stream",
     "text": [
      "Did not work out -  42540\n"
     ]
    },
    {
     "name": "stderr",
     "output_type": "stream",
     "text": [
      " 67%|██████▋   | 1053/1561 [15:38<04:29,  1.89it/s]"
     ]
    },
    {
     "name": "stdout",
     "output_type": "stream",
     "text": [
      "Did not work out -  awk\n"
     ]
    },
    {
     "name": "stderr",
     "output_type": "stream",
     "text": [
      " 68%|██████▊   | 1066/1561 [15:51<06:48,  1.21it/s]"
     ]
    },
    {
     "name": "stdout",
     "output_type": "stream",
     "text": [
      "Did not work out -  1080\n"
     ]
    },
    {
     "name": "stderr",
     "output_type": "stream",
     "text": [
      " 72%|███████▏  | 1121/1561 [16:35<06:30,  1.13it/s]"
     ]
    },
    {
     "name": "stdout",
     "output_type": "stream",
     "text": [
      "Did not work out -  41643\n"
     ]
    },
    {
     "name": "stderr",
     "output_type": "stream",
     "text": [
      " 72%|███████▏  | 1130/1561 [16:43<08:54,  1.24s/it]"
     ]
    },
    {
     "name": "stdout",
     "output_type": "stream",
     "text": [
      "Did not work out -  108281\n"
     ]
    },
    {
     "name": "stderr",
     "output_type": "stream",
     "text": [
      " 79%|███████▉  | 1234/1561 [18:14<05:33,  1.02s/it]"
     ]
    },
    {
     "name": "stdout",
     "output_type": "stream",
     "text": [
      "Did not work out -  manifest.csv\n"
     ]
    },
    {
     "name": "stderr",
     "output_type": "stream",
     "text": [
      " 98%|█████████▊| 1528/1561 [22:45<00:27,  1.19it/s]"
     ]
    },
    {
     "name": "stdout",
     "output_type": "stream",
     "text": [
      "Did not work out -  60419\n"
     ]
    },
    {
     "name": "stderr",
     "output_type": "stream",
     "text": [
      "100%|██████████| 1561/1561 [23:15<00:00,  1.12it/s]\n"
     ]
    },
    {
     "data": {
      "text/html": [
       "<div>\n",
       "<style scoped>\n",
       "    .dataframe tbody tr th:only-of-type {\n",
       "        vertical-align: middle;\n",
       "    }\n",
       "\n",
       "    .dataframe tbody tr th {\n",
       "        vertical-align: top;\n",
       "    }\n",
       "\n",
       "    .dataframe thead th {\n",
       "        text-align: right;\n",
       "    }\n",
       "</style>\n",
       "<table border=\"1\" class=\"dataframe\">\n",
       "  <thead>\n",
       "    <tr style=\"text-align: right;\">\n",
       "      <th></th>\n",
       "      <th>0</th>\n",
       "      <th>cs</th>\n",
       "      <th>csp</th>\n",
       "    </tr>\n",
       "  </thead>\n",
       "  <tbody>\n",
       "    <tr>\n",
       "      <th>1.0</th>\n",
       "      <td>8912948.035</td>\n",
       "      <td>8.912948e+06</td>\n",
       "      <td>0.454354</td>\n",
       "    </tr>\n",
       "    <tr>\n",
       "      <th>0.9</th>\n",
       "      <td>4380400.825</td>\n",
       "      <td>1.329335e+07</td>\n",
       "      <td>0.677653</td>\n",
       "    </tr>\n",
       "    <tr>\n",
       "      <th>0.8</th>\n",
       "      <td>2374779.605</td>\n",
       "      <td>1.566813e+07</td>\n",
       "      <td>0.798711</td>\n",
       "    </tr>\n",
       "    <tr>\n",
       "      <th>0.7</th>\n",
       "      <td>1449950.810</td>\n",
       "      <td>1.711808e+07</td>\n",
       "      <td>0.872625</td>\n",
       "    </tr>\n",
       "    <tr>\n",
       "      <th>0.6</th>\n",
       "      <td>756509.070</td>\n",
       "      <td>1.787459e+07</td>\n",
       "      <td>0.911190</td>\n",
       "    </tr>\n",
       "    <tr>\n",
       "      <th>0.5</th>\n",
       "      <td>503498.860</td>\n",
       "      <td>1.837809e+07</td>\n",
       "      <td>0.936857</td>\n",
       "    </tr>\n",
       "    <tr>\n",
       "      <th>0.4</th>\n",
       "      <td>265617.320</td>\n",
       "      <td>1.864370e+07</td>\n",
       "      <td>0.950397</td>\n",
       "    </tr>\n",
       "    <tr>\n",
       "      <th>0.3</th>\n",
       "      <td>212434.845</td>\n",
       "      <td>1.885614e+07</td>\n",
       "      <td>0.961226</td>\n",
       "    </tr>\n",
       "    <tr>\n",
       "      <th>0.2</th>\n",
       "      <td>204359.306</td>\n",
       "      <td>1.906050e+07</td>\n",
       "      <td>0.971644</td>\n",
       "    </tr>\n",
       "    <tr>\n",
       "      <th>0.1</th>\n",
       "      <td>322766.150</td>\n",
       "      <td>1.938326e+07</td>\n",
       "      <td>0.988097</td>\n",
       "    </tr>\n",
       "    <tr>\n",
       "      <th>0.0</th>\n",
       "      <td>233491.784</td>\n",
       "      <td>1.961676e+07</td>\n",
       "      <td>1.000000</td>\n",
       "    </tr>\n",
       "  </tbody>\n",
       "</table>\n",
       "</div>"
      ],
      "text/plain": [
       "               0            cs       csp\n",
       "1.0  8912948.035  8.912948e+06  0.454354\n",
       "0.9  4380400.825  1.329335e+07  0.677653\n",
       "0.8  2374779.605  1.566813e+07  0.798711\n",
       "0.7  1449950.810  1.711808e+07  0.872625\n",
       "0.6   756509.070  1.787459e+07  0.911190\n",
       "0.5   503498.860  1.837809e+07  0.936857\n",
       "0.4   265617.320  1.864370e+07  0.950397\n",
       "0.3   212434.845  1.885614e+07  0.961226\n",
       "0.2   204359.306  1.906050e+07  0.971644\n",
       "0.1   322766.150  1.938326e+07  0.988097\n",
       "0.0   233491.784  1.961676e+07  1.000000"
      ]
     },
     "execution_count": 2,
     "metadata": {},
     "output_type": "execute_result"
    }
   ],
   "source": [
    "import stable_whisper\n",
    "import numpy as np\n",
    "import pandas as pd\n",
    "from tqdm import tqdm\n",
    "\n",
    "buckets = {}\n",
    "\n",
    "for source_entry_id in tqdm(source_entry_ids):\n",
    "    try:\n",
    "        aligned_results_path = source_output_folder_base / str(source_entry_id) / aligned_transcript_filename\n",
    "        aligned_results = stable_whisper.WhisperResult(str(aligned_results_path))\n",
    "        \n",
    "        segment_durations = [s.end - s.start for s in aligned_results.segments]\n",
    "        word_probs_per_segment = [[w.probability for w in s.words] for s in aligned_results.segments]\n",
    "        median_probs_per_segment = [np.median(probs) for probs in word_probs_per_segment]\n",
    "\n",
    "        round_probs = (np.array(median_probs_per_segment) * 10).round() / 10\n",
    "\n",
    "        for prob_bucket, duration in zip(round_probs, segment_durations):\n",
    "            buckets[prob_bucket] = buckets.get(prob_bucket, 0)\n",
    "            buckets[prob_bucket] += duration\n",
    "    except:\n",
    "        print('Did not work out - ', source_entry_id)\n",
    "\n",
    "    \n",
    "\n",
    "durations_per_prob_df = pd.DataFrame.from_dict(buckets, \"index\").sort_index(ascending=False)\n",
    "durations_per_prob_df[\"cs\"] = durations_per_prob_df.cumsum()\n",
    "durations_per_prob_df[\"csp\"] = durations_per_prob_df[\"cs\"] / durations_per_prob_df[\"cs\"].iloc[-1]\n",
    "durations_per_prob_df"
   ]
  }
 ],
 "metadata": {
  "kernelspec": {
   "display_name": "dataset-prep",
   "language": "python",
   "name": "python3"
  },
  "language_info": {
   "codemirror_mode": {
    "name": "ipython",
    "version": 3
   },
   "file_extension": ".py",
   "mimetype": "text/x-python",
   "name": "python",
   "nbconvert_exporter": "python",
   "pygments_lexer": "ipython3",
   "version": "3.11.11"
  }
 },
 "nbformat": 4,
 "nbformat_minor": 2
}
